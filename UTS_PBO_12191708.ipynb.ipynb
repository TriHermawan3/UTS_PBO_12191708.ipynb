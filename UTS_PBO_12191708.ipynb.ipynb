{
 "cells": [
  {
   "cell_type": "code",
   "execution_count": null,
   "metadata": {},
   "outputs": [],
   "source": [
    "Nama          : Tri Hermawan\n",
    "NIM           : 12191708\n",
    "Mata Kuliah   : PBO\n",
    "Hari, Tanggal : Rabu, 18 November 2020"
   ]
  },
  {
   "cell_type": "code",
   "execution_count": 1,
   "metadata": {},
   "outputs": [
    {
     "name": "stdout",
     "output_type": "stream",
     "text": [
      "JAWABAN NO 1 :\n",
      "Program untuk menghitung Luas & Volume Bola\n",
      "----------------Tri Hermawan---------------\n",
      "Masukan Jari-jarinya  : 7\n",
      "-----------------Hasilnya-----------------\n",
      "Volume Bola         = 1437.33\n",
      "Luas Permukaan Bola = 616.00\n"
     ]
    }
   ],
   "source": [
    "#Soal No 1. Rancang dan implementasikan sebuah function untuk menghitung volume Bola dengan bahasa pemrograman python dalam notebook jupyter\n",
    "print (\"JAWABAN NO 1 :\")\n",
    "\n",
    "print(\"Program untuk menghitung Luas & Volume Bola\")\n",
    "print(\"----------------Tri Hermawan---------------\")\n",
    "\n",
    "pi    = 22/7\n",
    "jari   = float(input(\"Masukan Jari-jarinya  : \"))\n",
    "volume = pi*jari*jari*jari*4/3\n",
    "luas   = 4*pi*jari*jari\n",
    "\n",
    "print(\"-----------------Hasilnya-----------------\")\n",
    "print(\"Volume Bola adalah  =\",\"{:.2f}\".format(volume))\n",
    "print(\"Luas Permukaan Bola =\",\"{:.2f}\".format(luas))"
   ]
  },
  {
   "cell_type": "code",
   "execution_count": 3,
   "metadata": {},
   "outputs": [
    {
     "name": "stdout",
     "output_type": "stream",
     "text": [
      "JAWABAN SOAL NO 2 DAN 3 :\n",
      "Masukan nilai dari jari-jarinya bola : 7\n",
      "Volume bola jika jari-jarinya 7cm adalah 1436 cm3\n",
      "Apakah mau melanjutkan untuk menhitung lagi? ya/tidakya\n",
      "Masukan nilai dari jari-jarinya bola : 14\n",
      "Volume bola jika jari-jarinya 14cm adalah 11488 cm3\n",
      "Apakah mau melanjutkan untuk menhitung lagi? ya/tidakya\n",
      "Masukan nilai dari jari-jarinya bola : 21\n",
      "Volume bola jika jari-jarinya 21cm adalah 38772 cm3\n",
      "Apakah mau melanjutkan untuk menhitung lagi? ya/tidaktidak\n"
     ]
    }
   ],
   "source": [
    "# Soal No 2. Implementasikan algoritma dari flowchart dibawah ini dari kasus soal 1\n",
    "#Soal No 3. Berikan penjelasan dengan sebuah comment pada tiap – tiap perintah pada soal nomor 2\n",
    "\n",
    "print (\"JAWABAN SOAL NO 2 DAN 3 :\")\n",
    "def hitung_volume_bola(jari_jari): # buat sebuah fungsi seperti di cell nomor #1\n",
    "   \n",
    "    r = int(jari_jari) # karena jari-jari akan dimasukkan secara manual, maka saya  var jari_jari dirubah menjadi integer terlebih dahulu\n",
    "   \n",
    "    v = (4/3) * 3.14 * (r**3) # setelah itu hitung volume bola dan di simpan di dalam variabel v\n",
    "   \n",
    "    return int(v) # outputkan variabel v\n",
    "\n",
    " \n",
    "lanjut = \"\" # definisikan variabel bernama lanjut berisi string \"Ya\"\n",
    "\n",
    "\n",
    "while lanjut != \"tidak\": # jalankan perulangan selama variabel lanjut bernilai selain \"tidak\"\n",
    "    \n",
    "    jari_jari = input(\"Masukan nilai dari jari-jarinya bola : \") # ambil jari-jari dari inputan manual\n",
    "    \n",
    "    volume = hitung_volume_bola(jari_jari) # jalankan fungsi hitung dengan memasukan jari_jari nya, lalu simpan ke dalam variabel volume\n",
    "    \n",
    "    hasil = \"Volume bola jika jari-jarinya {}cm adalah {} cm3\".format(jari_jari, volume) # buat hasil untuk menampilkan hasilnya\n",
    "    \n",
    "    print(hasil) # tampilkan hasilnya dengan print\n",
    "\n",
    "    lanjut = input(\"Apakah mau melanjutkan untuk menhitung lagi? ya/tidak\")     # munculkan input untuk mengkonfirmasi\n",
    "    # jika kita menjawab \"ya\", maka proses pengulangan akan tetap berjalan terus. Dan jika kita menjawab \"tidak\", maka perulangan akan berhenti sampai disini."
   ]
  },
  {
   "cell_type": "code",
   "execution_count": null,
   "metadata": {},
   "outputs": [],
   "source": []
  }
 ],
 "metadata": {
  "kernelspec": {
   "display_name": "Python 3",
   "language": "python",
   "name": "python3"
  },
  "language_info": {
   "codemirror_mode": {
    "name": "ipython",
    "version": 3
   },
   "file_extension": ".py",
   "mimetype": "text/x-python",
   "name": "python",
   "nbconvert_exporter": "python",
   "pygments_lexer": "ipython3",
   "version": "3.9.0"
  }
 },
 "nbformat": 4,
 "nbformat_minor": 4
}
